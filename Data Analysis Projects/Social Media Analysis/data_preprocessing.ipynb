{
 "cells": [
  {
   "cell_type": "code",
   "execution_count": 1,
   "metadata": {},
   "outputs": [],
   "source": [
    "import pandas as pd\n",
    "import numpy as np\n",
    "import tensorflow as tf\n",
    "from transformers import RobertaTokenizer, TFRobertaForSequenceClassification # for tweet sentiment analysis\n",
    "from deep_translator import GoogleTranslator # translate location\n",
    "from geopy.geocoders import Nominatim # get country for city name"
   ]
  },
  {
   "cell_type": "code",
   "execution_count": 3,
   "metadata": {},
   "outputs": [],
   "source": [
    "df = pd.read_csv('245k_tweets.csv')"
   ]
  },
  {
   "cell_type": "code",
   "execution_count": 4,
   "metadata": {},
   "outputs": [
    {
     "name": "stdout",
     "output_type": "stream",
     "text": [
      "<class 'pandas.core.frame.DataFrame'>\n",
      "RangeIndex: 15276 entries, 0 to 15275\n",
      "Data columns (total 7 columns):\n",
      " #   Column              Non-Null Count  Dtype \n",
      "---  ------              --------------  ----- \n",
      " 0   content             15276 non-null  object\n",
      " 1   date                15276 non-null  object\n",
      " 2   location            14212 non-null  object\n",
      " 3   like_count          15276 non-null  int64 \n",
      " 4   source              15276 non-null  object\n",
      " 5   total_media_shared  15276 non-null  int64 \n",
      " 6   retweet_count       15276 non-null  int64 \n",
      "dtypes: int64(3), object(4)\n",
      "memory usage: 835.5+ KB\n"
     ]
    }
   ],
   "source": [
    "df.info()"
   ]
  },
  {
   "cell_type": "code",
   "execution_count": 5,
   "metadata": {},
   "outputs": [
    {
     "data": {
      "text/html": [
       "<div>\n",
       "<style scoped>\n",
       "    .dataframe tbody tr th:only-of-type {\n",
       "        vertical-align: middle;\n",
       "    }\n",
       "\n",
       "    .dataframe tbody tr th {\n",
       "        vertical-align: top;\n",
       "    }\n",
       "\n",
       "    .dataframe thead th {\n",
       "        text-align: right;\n",
       "    }\n",
       "</style>\n",
       "<table border=\"1\" class=\"dataframe\">\n",
       "  <thead>\n",
       "    <tr style=\"text-align: right;\">\n",
       "      <th></th>\n",
       "      <th>content</th>\n",
       "      <th>date</th>\n",
       "      <th>location</th>\n",
       "      <th>like_count</th>\n",
       "      <th>source</th>\n",
       "      <th>total_media_shared</th>\n",
       "      <th>retweet_count</th>\n",
       "    </tr>\n",
       "  </thead>\n",
       "  <tbody>\n",
       "    <tr>\n",
       "      <th>0</th>\n",
       "      <td>#DeSantis and #GOP delivered legislative hando...</td>\n",
       "      <td>2022-06-28 23:55:00+00:00</td>\n",
       "      <td>Sacramento, CA</td>\n",
       "      <td>3</td>\n",
       "      <td>Twitter Web App</td>\n",
       "      <td>0</td>\n",
       "      <td>2</td>\n",
       "    </tr>\n",
       "    <tr>\n",
       "      <th>1</th>\n",
       "      <td>3) We should all be annoyed that the FDA kept ...</td>\n",
       "      <td>2022-06-28 23:50:13+00:00</td>\n",
       "      <td>Washington DC | Virginia</td>\n",
       "      <td>230</td>\n",
       "      <td>Twitter for iPhone</td>\n",
       "      <td>0</td>\n",
       "      <td>55</td>\n",
       "    </tr>\n",
       "    <tr>\n",
       "      <th>2</th>\n",
       "      <td>The #pandemic has brought out greater fault li...</td>\n",
       "      <td>2022-06-28 23:50:00+00:00</td>\n",
       "      <td>India</td>\n",
       "      <td>0</td>\n",
       "      <td>TweetDeck</td>\n",
       "      <td>0</td>\n",
       "      <td>0</td>\n",
       "    </tr>\n",
       "    <tr>\n",
       "      <th>3</th>\n",
       "      <td>\"California Department of Public Health Issues...</td>\n",
       "      <td>2022-06-28 23:50:00+00:00</td>\n",
       "      <td>Chicago, IL &amp; Denver, CO</td>\n",
       "      <td>0</td>\n",
       "      <td>Semrush Social Media Tool</td>\n",
       "      <td>0</td>\n",
       "      <td>0</td>\n",
       "    </tr>\n",
       "    <tr>\n",
       "      <th>4</th>\n",
       "      <td>.@TheAtlantic's @edyong209 takes an honest loo...</td>\n",
       "      <td>2022-06-28 23:46:48+00:00</td>\n",
       "      <td>Phoenix, AZ</td>\n",
       "      <td>3</td>\n",
       "      <td>Twitter Web App</td>\n",
       "      <td>4</td>\n",
       "      <td>1</td>\n",
       "    </tr>\n",
       "    <tr>\n",
       "      <th>5</th>\n",
       "      <td>2) I’ve been trying to warn about rebound 🏀 #C...</td>\n",
       "      <td>2022-06-28 23:46:33+00:00</td>\n",
       "      <td>Washington DC | Virginia</td>\n",
       "      <td>293</td>\n",
       "      <td>Twitter for iPhone</td>\n",
       "      <td>0</td>\n",
       "      <td>82</td>\n",
       "    </tr>\n",
       "    <tr>\n",
       "      <th>6</th>\n",
       "      <td>@shishiluo, our Head of Infectious Diseases, d...</td>\n",
       "      <td>2022-06-28 23:45:59+00:00</td>\n",
       "      <td>San Mateo, CA</td>\n",
       "      <td>1</td>\n",
       "      <td>HubSpot</td>\n",
       "      <td>0</td>\n",
       "      <td>0</td>\n",
       "    </tr>\n",
       "    <tr>\n",
       "      <th>7</th>\n",
       "      <td>The first US-donated pediatric #COVID19 vaccin...</td>\n",
       "      <td>2022-06-28 23:45:39+00:00</td>\n",
       "      <td>Washington, D.C.</td>\n",
       "      <td>131</td>\n",
       "      <td>Twitter Web App</td>\n",
       "      <td>3</td>\n",
       "      <td>28</td>\n",
       "    </tr>\n",
       "    <tr>\n",
       "      <th>8</th>\n",
       "      <td>Wowzers —Fauci now has #Paxlovid rebound 🏀 #CO...</td>\n",
       "      <td>2022-06-28 23:41:28+00:00</td>\n",
       "      <td>Washington DC | Virginia</td>\n",
       "      <td>1521</td>\n",
       "      <td>Twitter for iPhone</td>\n",
       "      <td>0</td>\n",
       "      <td>450</td>\n",
       "    </tr>\n",
       "    <tr>\n",
       "      <th>9</th>\n",
       "      <td>As the world’s economy has come under the grip...</td>\n",
       "      <td>2022-06-28 23:35:00+00:00</td>\n",
       "      <td>India</td>\n",
       "      <td>0</td>\n",
       "      <td>TweetDeck</td>\n",
       "      <td>0</td>\n",
       "      <td>0</td>\n",
       "    </tr>\n",
       "  </tbody>\n",
       "</table>\n",
       "</div>"
      ],
      "text/plain": [
       "                                             content  \\\n",
       "0  #DeSantis and #GOP delivered legislative hando...   \n",
       "1  3) We should all be annoyed that the FDA kept ...   \n",
       "2  The #pandemic has brought out greater fault li...   \n",
       "3  \"California Department of Public Health Issues...   \n",
       "4  .@TheAtlantic's @edyong209 takes an honest loo...   \n",
       "5  2) I’ve been trying to warn about rebound 🏀 #C...   \n",
       "6  @shishiluo, our Head of Infectious Diseases, d...   \n",
       "7  The first US-donated pediatric #COVID19 vaccin...   \n",
       "8  Wowzers —Fauci now has #Paxlovid rebound 🏀 #CO...   \n",
       "9  As the world’s economy has come under the grip...   \n",
       "\n",
       "                        date                  location  like_count  \\\n",
       "0  2022-06-28 23:55:00+00:00            Sacramento, CA           3   \n",
       "1  2022-06-28 23:50:13+00:00  Washington DC | Virginia         230   \n",
       "2  2022-06-28 23:50:00+00:00                     India           0   \n",
       "3  2022-06-28 23:50:00+00:00  Chicago, IL & Denver, CO           0   \n",
       "4  2022-06-28 23:46:48+00:00               Phoenix, AZ           3   \n",
       "5  2022-06-28 23:46:33+00:00  Washington DC | Virginia         293   \n",
       "6  2022-06-28 23:45:59+00:00             San Mateo, CA           1   \n",
       "7  2022-06-28 23:45:39+00:00          Washington, D.C.         131   \n",
       "8  2022-06-28 23:41:28+00:00  Washington DC | Virginia        1521   \n",
       "9  2022-06-28 23:35:00+00:00                     India           0   \n",
       "\n",
       "                      source  total_media_shared  retweet_count  \n",
       "0            Twitter Web App                   0              2  \n",
       "1         Twitter for iPhone                   0             55  \n",
       "2                  TweetDeck                   0              0  \n",
       "3  Semrush Social Media Tool                   0              0  \n",
       "4            Twitter Web App                   4              1  \n",
       "5         Twitter for iPhone                   0             82  \n",
       "6                    HubSpot                   0              0  \n",
       "7            Twitter Web App                   3             28  \n",
       "8         Twitter for iPhone                   0            450  \n",
       "9                  TweetDeck                   0              0  "
      ]
     },
     "execution_count": 5,
     "metadata": {},
     "output_type": "execute_result"
    }
   ],
   "source": [
    "df.head(10)"
   ]
  },
  {
   "cell_type": "code",
   "execution_count": 26,
   "metadata": {},
   "outputs": [],
   "source": [
    "df['date'] = pd.to_datetime(df['date']) # convert into datetime format\n",
    "df['year'] = df['date'].dt.year\n",
    "df['month_name'] = df['date'].dt.month_name()\n",
    "df['month_day'] = df['date'].dt.day"
   ]
  },
  {
   "cell_type": "code",
   "execution_count": 6,
   "metadata": {
    "scrolled": true
   },
   "outputs": [
    {
     "name": "stdout",
     "output_type": "stream",
     "text": [
      "السعودية\n"
     ]
    }
   ],
   "source": [
    "geolocator = Nominatim(user_agent = \"http\")\n",
    "loc = geolocator.geocode('Saudi Arabia')\n",
    "print(loc.address.split(\",\")[-1].strip())"
   ]
  },
  {
   "cell_type": "code",
   "execution_count": 8,
   "metadata": {},
   "outputs": [
    {
     "name": "stdout",
     "output_type": "stream",
     "text": [
      "中国\n"
     ]
    }
   ],
   "source": [
    "loc = geolocator.geocode(\"shanghai\")\n",
    "address = loc.address.split(\",\")[-1].strip()\n",
    "print(address)"
   ]
  },
  {
   "cell_type": "code",
   "execution_count": 11,
   "metadata": {},
   "outputs": [],
   "source": [
    "def get_country(place):\n",
    "    try:\n",
    "        loc = geolocator.geocode(place.lower())\n",
    "        address = loc.address.split(\",\")[-1].strip()\n",
    "    except Exception:\n",
    "        return \"multiple_address\"\n",
    "    \n",
    "    return GoogleTranslator(source='auto', target='en').translate(address) # may contain some chinese words like \"北京\""
   ]
  },
  {
   "cell_type": "code",
   "execution_count": 10,
   "metadata": {},
   "outputs": [],
   "source": [
    "import re\n",
    "\n",
    "def format_link(tweet):\n",
    "    '''\n",
    "    replace all the link with \"http\" for sentiment analysis\n",
    "    '''\n",
    "    pattern = r'((www|http\\:\\/\\/|https\\:\\/\\/)?.[\\w]*.(com|co))+(\\/?[\\w]?)*'\n",
    "    match = re.compile(pattern)\n",
    "    return match.sub(\"http\", tweet)\n",
    "    \n",
    "def format_text(tweet):\n",
    "    '''\n",
    "    replace all the \\n with space from the tweet\n",
    "    '''\n",
    "    pattern = r'\\n'\n",
    "    match = re.compile(pattern)\n",
    "    return match.sub(\" \", tweet)\n",
    "\n",
    "def format_mention(tweet):\n",
    "    '''\n",
    "    replace all the @username mention to @user for sentiment analysis\n",
    "    '''\n",
    "    pattern = r'@[\\w]+'\n",
    "    match = re.compile(pattern)\n",
    "    return match.sub(\"@user\", tweet)"
   ]
  },
  {
   "cell_type": "code",
   "execution_count": 12,
   "metadata": {},
   "outputs": [
    {
     "data": {
      "text/plain": [
       "'China'"
      ]
     },
     "execution_count": 12,
     "metadata": {},
     "output_type": "execute_result"
    }
   ],
   "source": [
    "get_country(\"shanghai\")"
   ]
  },
  {
   "cell_type": "code",
   "execution_count": 14,
   "metadata": {
    "scrolled": false
   },
   "outputs": [
    {
     "data": {
      "text/plain": [
       "'The rickshaw men in #Tokyo are adding English-speaking staff, a sure sign #Japan is bracing for a return of tourists from abroad.  Read more: http  #COVID19 #tourism'"
      ]
     },
     "execution_count": 14,
     "metadata": {},
     "output_type": "execute_result"
    }
   ],
   "source": [
    "format_text(format_link(df['content'][234]))"
   ]
  },
  {
   "cell_type": "code",
   "execution_count": 15,
   "metadata": {
    "scrolled": false
   },
   "outputs": [],
   "source": [
    "df['place'] = df['location'].apply(get_country) \n",
    "df['place'].unique()[:20]"
   ]
  },
  {
   "cell_type": "code",
   "execution_count": 32,
   "metadata": {},
   "outputs": [],
   "source": [
    "# convert anything which is not posted from webapp, iphone, android, ipad etc. to social media management platform\n",
    "df['source'] = np.where((df['source'] != \"Twitter Web App\") & \n",
    "                        (df['source'] != \"Twitter for iPhone\") & \n",
    "                        (df['source'] != \"Twitter for Android\") & \n",
    "                        (df['source'] != \"Twitter for iPad\") & \n",
    "                        (df['source'] != \"Twitter Media Studio\") & \n",
    "                        (df['source'] != \"Twitter for Advertisers\"), \n",
    "                        \"Social Media Management Platform\", df['source'])"
   ]
  },
  {
   "cell_type": "code",
   "execution_count": 33,
   "metadata": {},
   "outputs": [
    {
     "data": {
      "text/plain": [
       "Twitter Web App                     6409\n",
       "Social Media Management Platform    6160\n",
       "Twitter for iPhone                  1413\n",
       "Twitter for Android                  882\n",
       "Twitter Media Studio                 256\n",
       "Twitter for iPad                      98\n",
       "Twitter for Advertisers               58\n",
       "Name: source, dtype: int64"
      ]
     },
     "execution_count": 33,
     "metadata": {},
     "output_type": "execute_result"
    }
   ],
   "source": [
    "df['source'].value_counts()"
   ]
  },
  {
   "cell_type": "code",
   "execution_count": 22,
   "metadata": {},
   "outputs": [],
   "source": [
    "import snscrape.modules.twitter as sntwitter\n",
    "count = 1\n",
    "tweets = []\n",
    "for tweet in sntwitter.TwitterSearchScraper(\"#COVID19 OR #CoronaVirus OR #Pandemic since:2020-01-01 until:2022-06-29 filter:verified\").get_items():\n",
    "    if len(tweets) == count:\n",
    "        break\n",
    "    if tweet.lang=='en':\n",
    "        tweets.append(tweet)"
   ]
  },
  {
   "cell_type": "code",
   "execution_count": 23,
   "metadata": {},
   "outputs": [
    {
     "data": {
      "text/plain": [
       "'#DeSantis and #GOP delivered legislative handouts to the nursing home industry, like extending protections from #COVID19-related liability lawsuits and reducing the amount of resident care the facilities are required to provide to residents\\nhttps://t.co/J4LjWD8RMZ\\nvia @readsludge'"
      ]
     },
     "execution_count": 23,
     "metadata": {},
     "output_type": "execute_result"
    }
   ],
   "source": [
    "tweets[0].rawContent"
   ]
  },
  {
   "cell_type": "code",
   "execution_count": 36,
   "metadata": {},
   "outputs": [
    {
     "name": "stderr",
     "output_type": "stream",
     "text": [
      "All model checkpoint layers were used when initializing TFRobertaForSequenceClassification.\n",
      "\n",
      "All the layers of TFRobertaForSequenceClassification were initialized from the model checkpoint at cardiffnlp/twitter-roberta-base-sentiment.\n",
      "If your task is similar to the task the model of the checkpoint was trained on, you can already use TFRobertaForSequenceClassification for predictions without further training.\n"
     ]
    },
    {
     "data": {
      "application/vnd.jupyter.widget-view+json": {
       "model_id": "6fb1f4fb903349a88ef14b588535efa2",
       "version_major": 2,
       "version_minor": 0
      },
      "text/plain": [
       "Downloading (…)olve/main/vocab.json:   0%|          | 0.00/899k [00:00<?, ?B/s]"
      ]
     },
     "metadata": {},
     "output_type": "display_data"
    },
    {
     "data": {
      "application/vnd.jupyter.widget-view+json": {
       "model_id": "8729275125b04650a516fdb7fd0f7440",
       "version_major": 2,
       "version_minor": 0
      },
      "text/plain": [
       "Downloading (…)olve/main/merges.txt:   0%|          | 0.00/456k [00:00<?, ?B/s]"
      ]
     },
     "metadata": {},
     "output_type": "display_data"
    },
    {
     "data": {
      "application/vnd.jupyter.widget-view+json": {
       "model_id": "4e5e63fbafed4e07a1dafff3b9dd356e",
       "version_major": 2,
       "version_minor": 0
      },
      "text/plain": [
       "Downloading (…)cial_tokens_map.json:   0%|          | 0.00/150 [00:00<?, ?B/s]"
      ]
     },
     "metadata": {},
     "output_type": "display_data"
    }
   ],
   "source": [
    "# loading the model\n",
    "roberta = 'cardiffnlp/twitter-roberta-base-sentiment'\n",
    "model = TFRobertaForSequenceClassification.from_pretrained(roberta)\n",
    "tokenizer = RobertaTokenizer.from_pretrained(roberta)\n",
    "labels = [\"Negative\", \"Neutral\", \"Positive\"]"
   ]
  },
  {
   "cell_type": "code",
   "execution_count": 25,
   "metadata": {},
   "outputs": [
    {
     "name": "stdout",
     "output_type": "stream",
     "text": [
      "#DeSantis and #GOP delivered legislative handouts to the nursing home industry, like extending protections from #COVID19-related liability lawsuits and reducing the amount of resident care the facilities are required to provide to residents http via @user\n"
     ]
    }
   ],
   "source": [
    "tweet = format_link(format_mention(format_text(tweets[0].rawContent)))\n",
    "print(encoded_tweet)"
   ]
  },
  {
   "cell_type": "code",
   "execution_count": 45,
   "metadata": {},
   "outputs": [],
   "source": [
    "def get_sentiment(tweet):\n",
    "    encoded_tweet = tokenizer(tweet, return_tensors='tf')\n",
    "    output = model(encoded_tweet, training=False).logits\n",
    "    return tf.nn.softmax(output)"
   ]
  },
  {
   "cell_type": "code",
   "execution_count": 50,
   "metadata": {},
   "outputs": [
    {
     "data": {
      "text/plain": [
       "1"
      ]
     },
     "execution_count": 50,
     "metadata": {},
     "output_type": "execute_result"
    }
   ],
   "source": [
    "get_sentiment(tweet).numpy().argmax()"
   ]
  },
  {
   "cell_type": "code",
   "execution_count": 52,
   "metadata": {},
   "outputs": [
    {
     "data": {
      "text/plain": [
       "'Neutral'"
      ]
     },
     "execution_count": 52,
     "metadata": {},
     "output_type": "execute_result"
    }
   ],
   "source": [
    "labels[get_sentiment(tweet).numpy().argmax()]"
   ]
  },
  {
   "cell_type": "code",
   "execution_count": null,
   "metadata": {},
   "outputs": [],
   "source": []
  },
  {
   "cell_type": "code",
   "execution_count": null,
   "metadata": {},
   "outputs": [],
   "source": []
  }
 ],
 "metadata": {
  "kernelspec": {
   "display_name": "Python 3 (ipykernel)",
   "language": "python",
   "name": "python3"
  },
  "language_info": {
   "codemirror_mode": {
    "name": "ipython",
    "version": 3
   },
   "file_extension": ".py",
   "mimetype": "text/x-python",
   "name": "python",
   "nbconvert_exporter": "python",
   "pygments_lexer": "ipython3",
   "version": "3.9.13"
  },
  "vscode": {
   "interpreter": {
    "hash": "26de051ba29f2982a8de78e945f0abaf191376122a1563185a90213a26c5da77"
   }
  }
 },
 "nbformat": 4,
 "nbformat_minor": 2
}
