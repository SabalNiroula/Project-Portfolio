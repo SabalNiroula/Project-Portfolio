{
 "cells": [
  {
   "cell_type": "code",
   "execution_count": 1,
   "metadata": {},
   "outputs": [],
   "source": [
    "import snscrape.modules.twitter as sntwitter\n",
    "import pandas as pd"
   ]
  },
  {
   "cell_type": "code",
   "execution_count": 2,
   "metadata": {},
   "outputs": [],
   "source": [
    "import datetime\n",
    "begin_date= datetime.datetime(2021, 6, 12, 0, 0, 0)\n",
    "end_date = datetime.datetime(2022, 6, 29, 0, 0, 0)\n",
    "one_day = datetime.timedelta(days=1)"
   ]
  },
  {
   "cell_type": "code",
   "execution_count": 17,
   "metadata": {},
   "outputs": [
    {
     "data": {
      "text/plain": [
       "'#COVID19 OR #CoronaVirus OR #Pandemic since:2022-06-29 until:2022-06-30 filter:verified'"
      ]
     },
     "execution_count": 17,
     "metadata": {},
     "output_type": "execute_result"
    }
   ],
   "source": [
    "get_query()"
   ]
  },
  {
   "cell_type": "code",
   "execution_count": 4,
   "metadata": {},
   "outputs": [],
   "source": [
    "all_tweets = []"
   ]
  },
  {
   "cell_type": "code",
   "execution_count": 5,
   "metadata": {},
   "outputs": [],
   "source": [
    "# 2020-01-01, 2022-06-29\n",
    "def get_query():\n",
    "    '''\n",
    "    Query for tweets of one day only\n",
    "    '''\n",
    "    QUERY = \"#COVID19 OR #CoronaVirus OR #Pandemic since:{} until:{} filter:verified\"\n",
    "    if end_date>=begin_date:\n",
    "        return QUERY.format(begin_date.date(), (begin_date+one_day).date())\n",
    "    else:\n",
    "        return \"-1\"\n",
    "\n",
    "\n",
    "def scrape_tweets(QUERY):\n",
    "    '''\n",
    "    Get 275 tweets per day\n",
    "    '''\n",
    "    count = 275\n",
    "    tweets = []\n",
    "    for tweet in sntwitter.TwitterSearchScraper(QUERY).get_items():\n",
    "            if len(tweets) == count:\n",
    "                break\n",
    "            if(tweet.lang=='en'):\n",
    "                media_shared = 0 if (tweet.media) is None else len(tweet.media)\n",
    "                tweets.append([tweet.rawContent, tweet.date, tweet.user.location, tweet.likeCount, tweet.sourceLabel, \n",
    "                           media_shared, tweet.retweetCount])\n",
    "    return tweets"
   ]
  },
  {
   "cell_type": "code",
   "execution_count": 20,
   "metadata": {},
   "outputs": [],
   "source": [
    "while True:\n",
    "    QUERY = get_query()\n",
    "    if QUERY != \"-1\":\n",
    "        temp = scrape_tweets(QUERY)\n",
    "        for i in temp:\n",
    "            all_tweets.append(i)\n",
    "        begin_date += one_day\n",
    "    else:\n",
    "        break\n",
    "    if end_date == begin_date:\n",
    "        break"
   ]
  },
  {
   "cell_type": "code",
   "execution_count": null,
   "metadata": {},
   "outputs": [],
   "source": [
    "tweets[0].content, tweets[99].date, tweets[0].user.location, tweets[0].likeCount, tweets[0].sourceLabel.split()[1:], len(tweets[4].media), tweets[0].retweetCount \n",
    "# no of media"
   ]
  },
  {
   "cell_type": "code",
   "execution_count": 21,
   "metadata": {},
   "outputs": [
    {
     "data": {
      "text/plain": [
       "105325"
      ]
     },
     "execution_count": 21,
     "metadata": {},
     "output_type": "execute_result"
    }
   ],
   "source": [
    "len(all_tweets)"
   ]
  },
  {
   "cell_type": "code",
   "execution_count": 23,
   "metadata": {},
   "outputs": [
    {
     "data": {
      "text/plain": [
       "['The Italian Ambassador Antonino Maggiore was honored to join the PS of MoH Prof. Lackon Kasonka, at the reception of 500,000 doses of #Pfizer vaccines, donated by the Italian Government to the MoH of #Zambia, in a combine effort to defeat the #coronavirus\\n🇮🇹🇿🇲\\n\\n#vaccinesharing https://t.co/oMzUvnmOp1',\n",
       " datetime.datetime(2022, 6, 29, 15, 38, 31, tzinfo=datetime.timezone.utc),\n",
       " 'Lusaka, Zambia',\n",
       " 20,\n",
       " 'Twitter for Android',\n",
       " 1,\n",
       " 1]"
      ]
     },
     "execution_count": 23,
     "metadata": {},
     "output_type": "execute_result"
    }
   ],
   "source": [
    "(all_tweets[105320])"
   ]
  },
  {
   "cell_type": "code",
   "execution_count": 24,
   "metadata": {},
   "outputs": [],
   "source": [
    "df = pd.DataFrame(all_tweets, columns=['content', 'date', 'location', 'like_count', 'source', 'total_media_shared', 'retweet_count'])"
   ]
  },
  {
   "cell_type": "code",
   "execution_count": 25,
   "metadata": {},
   "outputs": [
    {
     "data": {
      "text/plain": [
       "2021-06-12    275\n",
       "2022-02-19    275\n",
       "2022-02-28    275\n",
       "2022-02-27    275\n",
       "2022-02-26    275\n",
       "             ... \n",
       "2021-10-15    275\n",
       "2021-10-14    275\n",
       "2021-10-13    275\n",
       "2021-10-12    275\n",
       "2022-06-29    275\n",
       "Name: date, Length: 383, dtype: int64"
      ]
     },
     "execution_count": 25,
     "metadata": {},
     "output_type": "execute_result"
    }
   ],
   "source": [
    "df['date'].dt.date.value_counts()"
   ]
  },
  {
   "cell_type": "code",
   "execution_count": 26,
   "metadata": {},
   "outputs": [
    {
     "name": "stdout",
     "output_type": "stream",
     "text": [
      "<class 'pandas.core.frame.DataFrame'>\n",
      "RangeIndex: 105325 entries, 0 to 105324\n",
      "Data columns (total 7 columns):\n",
      " #   Column              Non-Null Count   Dtype              \n",
      "---  ------              --------------   -----              \n",
      " 0   content             105325 non-null  object             \n",
      " 1   date                105325 non-null  datetime64[ns, UTC]\n",
      " 2   location            105325 non-null  object             \n",
      " 3   like_count          105325 non-null  int64              \n",
      " 4   source              105325 non-null  object             \n",
      " 5   total_media_shared  105325 non-null  int64              \n",
      " 6   retweet_count       105325 non-null  int64              \n",
      "dtypes: datetime64[ns, UTC](1), int64(3), object(3)\n",
      "memory usage: 5.6+ MB\n"
     ]
    }
   ],
   "source": [
    "df.info()"
   ]
  },
  {
   "cell_type": "code",
   "execution_count": null,
   "metadata": {},
   "outputs": [],
   "source": [
    "import geopy\n",
    "from geopy.geocoders import Nominatim\n",
    "geolocator = Nominatim(user_agent = \"http\")\n",
    "loc = geolocator.geocode('NY/Delhi/Rio/Beijing/Nairobi/Joburg/London')\n",
    "print(loc.address.split(\",\")[-1])\n",
    "# u'Chicago, Cook County, Illinois, United States of America'\n",
    "loc = geolocator.geocode('San Francisco California')\n",
    "print(loc.address) \n",
    "# u'SF, California, United States of America'"
   ]
  },
  {
   "cell_type": "code",
   "execution_count": 27,
   "metadata": {
    "scrolled": false
   },
   "outputs": [],
   "source": [
    "df.to_csv(\"dataframe_2.csv\", index=False)"
   ]
  },
  {
   "cell_type": "code",
   "execution_count": 13,
   "metadata": {},
   "outputs": [],
   "source": [
    "df1 = pd.read_csv('dataframe_1.csv')\n",
    "df2 = pd.read_csv('dataframe_2.csv')"
   ]
  },
  {
   "cell_type": "code",
   "execution_count": 14,
   "metadata": {},
   "outputs": [
    {
     "name": "stdout",
     "output_type": "stream",
     "text": [
      "<class 'pandas.core.frame.DataFrame'>\n",
      "RangeIndex: 140278 entries, 0 to 140277\n",
      "Data columns (total 7 columns):\n",
      " #   Column              Non-Null Count   Dtype \n",
      "---  ------              --------------   ----- \n",
      " 0   content             140278 non-null  object\n",
      " 1   date                140278 non-null  object\n",
      " 2   location            130554 non-null  object\n",
      " 3   like_count          140278 non-null  int64 \n",
      " 4   source              140278 non-null  object\n",
      " 5   total_media_shared  140278 non-null  int64 \n",
      " 6   retweet_count       140278 non-null  int64 \n",
      "dtypes: int64(3), object(4)\n",
      "memory usage: 7.5+ MB\n"
     ]
    }
   ],
   "source": [
    "df1.info()"
   ]
  },
  {
   "cell_type": "code",
   "execution_count": 15,
   "metadata": {},
   "outputs": [
    {
     "name": "stdout",
     "output_type": "stream",
     "text": [
      "<class 'pandas.core.frame.DataFrame'>\n",
      "RangeIndex: 105325 entries, 0 to 105324\n",
      "Data columns (total 7 columns):\n",
      " #   Column              Non-Null Count   Dtype \n",
      "---  ------              --------------   ----- \n",
      " 0   content             105325 non-null  object\n",
      " 1   date                105325 non-null  object\n",
      " 2   location            98725 non-null   object\n",
      " 3   like_count          105325 non-null  int64 \n",
      " 4   source              105325 non-null  object\n",
      " 5   total_media_shared  105325 non-null  int64 \n",
      " 6   retweet_count       105325 non-null  int64 \n",
      "dtypes: int64(3), object(4)\n",
      "memory usage: 5.6+ MB\n"
     ]
    }
   ],
   "source": [
    "df2.info()"
   ]
  },
  {
   "cell_type": "code",
   "execution_count": 16,
   "metadata": {},
   "outputs": [],
   "source": [
    "df_concat = pd.concat([df1, df2], axis=0)\n",
    "df_concat = df_concat.reset_index(drop=True)"
   ]
  },
  {
   "cell_type": "code",
   "execution_count": 17,
   "metadata": {},
   "outputs": [
    {
     "data": {
      "text/html": [
       "<div>\n",
       "<style scoped>\n",
       "    .dataframe tbody tr th:only-of-type {\n",
       "        vertical-align: middle;\n",
       "    }\n",
       "\n",
       "    .dataframe tbody tr th {\n",
       "        vertical-align: top;\n",
       "    }\n",
       "\n",
       "    .dataframe thead th {\n",
       "        text-align: right;\n",
       "    }\n",
       "</style>\n",
       "<table border=\"1\" class=\"dataframe\">\n",
       "  <thead>\n",
       "    <tr style=\"text-align: right;\">\n",
       "      <th></th>\n",
       "      <th>content</th>\n",
       "      <th>date</th>\n",
       "      <th>location</th>\n",
       "      <th>like_count</th>\n",
       "      <th>source</th>\n",
       "      <th>total_media_shared</th>\n",
       "      <th>retweet_count</th>\n",
       "    </tr>\n",
       "  </thead>\n",
       "  <tbody>\n",
       "    <tr>\n",
       "      <th>0</th>\n",
       "      <td>1/ *NEW PAPERS ALERT*\\n\\nVery proud to share t...</td>\n",
       "      <td>2020-01-01 19:51:05+00:00</td>\n",
       "      <td>Stanford, CA</td>\n",
       "      <td>15</td>\n",
       "      <td>Twitter Web App</td>\n",
       "      <td>0</td>\n",
       "      <td>4</td>\n",
       "    </tr>\n",
       "    <tr>\n",
       "      <th>1</th>\n",
       "      <td>Drawing from actual events, #Event201 identifi...</td>\n",
       "      <td>2020-01-02 15:00:00+00:00</td>\n",
       "      <td>Baltimore</td>\n",
       "      <td>1</td>\n",
       "      <td>TweetDeck</td>\n",
       "      <td>0</td>\n",
       "      <td>0</td>\n",
       "    </tr>\n",
       "    <tr>\n",
       "      <th>2</th>\n",
       "      <td>Interesting article @PNAS on whether the Justi...</td>\n",
       "      <td>2020-01-05 22:46:12+00:00</td>\n",
       "      <td>Kumeyaay unceded land.</td>\n",
       "      <td>3</td>\n",
       "      <td>Twitter Web Client</td>\n",
       "      <td>0</td>\n",
       "      <td>1</td>\n",
       "    </tr>\n",
       "    <tr>\n",
       "      <th>3</th>\n",
       "      <td>@arambaut @WHO But batteries of tests have bee...</td>\n",
       "      <td>2020-01-05 19:05:20+00:00</td>\n",
       "      <td>New York, NY</td>\n",
       "      <td>1</td>\n",
       "      <td>Twitter Web App</td>\n",
       "      <td>0</td>\n",
       "      <td>0</td>\n",
       "    </tr>\n",
       "    <tr>\n",
       "      <th>4</th>\n",
       "      <td>#Pandemic players: what do you do if you draw ...</td>\n",
       "      <td>2020-01-06 15:32:57+00:00</td>\n",
       "      <td>Kingdom of Fife</td>\n",
       "      <td>3</td>\n",
       "      <td>Twitter for Android</td>\n",
       "      <td>0</td>\n",
       "      <td>0</td>\n",
       "    </tr>\n",
       "    <tr>\n",
       "      <th>...</th>\n",
       "      <td>...</td>\n",
       "      <td>...</td>\n",
       "      <td>...</td>\n",
       "      <td>...</td>\n",
       "      <td>...</td>\n",
       "      <td>...</td>\n",
       "      <td>...</td>\n",
       "    </tr>\n",
       "    <tr>\n",
       "      <th>245598</th>\n",
       "      <td>The Italian Ambassador Antonino Maggiore was h...</td>\n",
       "      <td>2022-06-29 15:38:31+00:00</td>\n",
       "      <td>Lusaka, Zambia</td>\n",
       "      <td>20</td>\n",
       "      <td>Twitter for Android</td>\n",
       "      <td>1</td>\n",
       "      <td>1</td>\n",
       "    </tr>\n",
       "    <tr>\n",
       "      <th>245599</th>\n",
       "      <td>PAHO is recommending a fourth dose of the vacc...</td>\n",
       "      <td>2022-06-29 15:38:24+00:00</td>\n",
       "      <td>Port-au-Prince/Miami</td>\n",
       "      <td>4</td>\n",
       "      <td>Twitter Web App</td>\n",
       "      <td>0</td>\n",
       "      <td>2</td>\n",
       "    </tr>\n",
       "    <tr>\n",
       "      <th>245600</th>\n",
       "      <td>#elmo breaks down the #covid19 vaccine for kid...</td>\n",
       "      <td>2022-06-29 15:36:26+00:00</td>\n",
       "      <td>Long Island, NY</td>\n",
       "      <td>0</td>\n",
       "      <td>SocialNewsDesk</td>\n",
       "      <td>1</td>\n",
       "      <td>0</td>\n",
       "    </tr>\n",
       "    <tr>\n",
       "      <th>245601</th>\n",
       "      <td>#Greece confirmed 16,115 new #coronavirus infe...</td>\n",
       "      <td>2022-06-29 15:35:46+00:00</td>\n",
       "      <td>Athens, Greece</td>\n",
       "      <td>0</td>\n",
       "      <td>Twitter Web App</td>\n",
       "      <td>1</td>\n",
       "      <td>0</td>\n",
       "    </tr>\n",
       "    <tr>\n",
       "      <th>245602</th>\n",
       "      <td>#COVID19 cases continue to increase in the Ame...</td>\n",
       "      <td>2022-06-29 15:32:16+00:00</td>\n",
       "      <td>Port-au-Prince/Miami</td>\n",
       "      <td>9</td>\n",
       "      <td>Twitter Web App</td>\n",
       "      <td>0</td>\n",
       "      <td>6</td>\n",
       "    </tr>\n",
       "  </tbody>\n",
       "</table>\n",
       "<p>245603 rows × 7 columns</p>\n",
       "</div>"
      ],
      "text/plain": [
       "                                                  content  \\\n",
       "0       1/ *NEW PAPERS ALERT*\\n\\nVery proud to share t...   \n",
       "1       Drawing from actual events, #Event201 identifi...   \n",
       "2       Interesting article @PNAS on whether the Justi...   \n",
       "3       @arambaut @WHO But batteries of tests have bee...   \n",
       "4       #Pandemic players: what do you do if you draw ...   \n",
       "...                                                   ...   \n",
       "245598  The Italian Ambassador Antonino Maggiore was h...   \n",
       "245599  PAHO is recommending a fourth dose of the vacc...   \n",
       "245600  #elmo breaks down the #covid19 vaccine for kid...   \n",
       "245601  #Greece confirmed 16,115 new #coronavirus infe...   \n",
       "245602  #COVID19 cases continue to increase in the Ame...   \n",
       "\n",
       "                             date                 location  like_count  \\\n",
       "0       2020-01-01 19:51:05+00:00             Stanford, CA          15   \n",
       "1       2020-01-02 15:00:00+00:00                Baltimore           1   \n",
       "2       2020-01-05 22:46:12+00:00  Kumeyaay unceded land.            3   \n",
       "3       2020-01-05 19:05:20+00:00             New York, NY           1   \n",
       "4       2020-01-06 15:32:57+00:00          Kingdom of Fife           3   \n",
       "...                           ...                      ...         ...   \n",
       "245598  2022-06-29 15:38:31+00:00           Lusaka, Zambia          20   \n",
       "245599  2022-06-29 15:38:24+00:00    Port-au-Prince/Miami            4   \n",
       "245600  2022-06-29 15:36:26+00:00          Long Island, NY           0   \n",
       "245601  2022-06-29 15:35:46+00:00           Athens, Greece           0   \n",
       "245602  2022-06-29 15:32:16+00:00    Port-au-Prince/Miami            9   \n",
       "\n",
       "                     source  total_media_shared  retweet_count  \n",
       "0           Twitter Web App                   0              4  \n",
       "1                 TweetDeck                   0              0  \n",
       "2        Twitter Web Client                   0              1  \n",
       "3           Twitter Web App                   0              0  \n",
       "4       Twitter for Android                   0              0  \n",
       "...                     ...                 ...            ...  \n",
       "245598  Twitter for Android                   1              1  \n",
       "245599      Twitter Web App                   0              2  \n",
       "245600       SocialNewsDesk                   1              0  \n",
       "245601      Twitter Web App                   1              0  \n",
       "245602      Twitter Web App                   0              6  \n",
       "\n",
       "[245603 rows x 7 columns]"
      ]
     },
     "execution_count": 17,
     "metadata": {},
     "output_type": "execute_result"
    }
   ],
   "source": [
    "df_concat.drop_duplicates()"
   ]
  },
  {
   "cell_type": "code",
   "execution_count": 19,
   "metadata": {},
   "outputs": [],
   "source": [
    "df_concat.drop_duplicates(inplace=True)"
   ]
  },
  {
   "cell_type": "code",
   "execution_count": 22,
   "metadata": {},
   "outputs": [],
   "source": [
    "df_concat.drop_duplicates(subset=['content'], inplace=True)"
   ]
  },
  {
   "cell_type": "code",
   "execution_count": 28,
   "metadata": {},
   "outputs": [
    {
     "name": "stdout",
     "output_type": "stream",
     "text": [
      "<class 'pandas.core.frame.DataFrame'>\n",
      "Int64Index: 243185 entries, 0 to 245602\n",
      "Data columns (total 7 columns):\n",
      " #   Column              Non-Null Count   Dtype \n",
      "---  ------              --------------   ----- \n",
      " 0   content             243185 non-null  object\n",
      " 1   date                243185 non-null  object\n",
      " 2   location            226918 non-null  object\n",
      " 3   like_count          243185 non-null  int64 \n",
      " 4   source              243185 non-null  object\n",
      " 5   total_media_shared  243185 non-null  int64 \n",
      " 6   retweet_count       243185 non-null  int64 \n",
      "dtypes: int64(3), object(4)\n",
      "memory usage: 14.8+ MB\n"
     ]
    }
   ],
   "source": [
    "df_concat.info()"
   ]
  },
  {
   "cell_type": "code",
   "execution_count": 29,
   "metadata": {},
   "outputs": [],
   "source": [
    "df_concat.to_csv('245k_tweets', index = False)"
   ]
  }
 ],
 "metadata": {
  "kernelspec": {
   "display_name": "Python 3 (ipykernel)",
   "language": "python",
   "name": "python3"
  },
  "language_info": {
   "codemirror_mode": {
    "name": "ipython",
    "version": 3
   },
   "file_extension": ".py",
   "mimetype": "text/x-python",
   "name": "python",
   "nbconvert_exporter": "python",
   "pygments_lexer": "ipython3",
   "version": "3.9.13"
  },
  "vscode": {
   "interpreter": {
    "hash": "26de051ba29f2982a8de78e945f0abaf191376122a1563185a90213a26c5da77"
   }
  }
 },
 "nbformat": 4,
 "nbformat_minor": 2
}
