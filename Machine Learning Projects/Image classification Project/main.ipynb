{
 "cells": [
  {
   "attachments": {},
   "cell_type": "markdown",
   "metadata": {},
   "source": [
    "## Importing required libraries"
   ]
  },
  {
   "cell_type": "code",
   "execution_count": 2,
   "metadata": {},
   "outputs": [],
   "source": [
    "import numpy as np  # linear algebra\n",
    "import pandas as pd  # data processing, CSV file I/O (e.g. pd.read_csv)\n",
    "import matplotlib.pyplot as plt\n",
    "import tensorflow as tf\n",
    "import os"
   ]
  },
  {
   "cell_type": "code",
   "execution_count": 20,
   "metadata": {},
   "outputs": [
    {
     "data": {
      "text/plain": [
       "'2.11.0'"
      ]
     },
     "execution_count": 20,
     "metadata": {},
     "output_type": "execute_result"
    }
   ],
   "source": [
    "tf.__version__"
   ]
  },
  {
   "attachments": {},
   "cell_type": "markdown",
   "metadata": {},
   "source": [
    "`train` -> name of all folder of training data \n",
    "\n",
    "`key_value` -> all the image files from trian data"
   ]
  },
  {
   "cell_type": "code",
   "execution_count": 7,
   "metadata": {},
   "outputs": [],
   "source": [
    "path = 'dataset'\n",
    "train = os.listdir(path+'/train')\n",
    "\n",
    "key_value = dict()\n",
    "# print(train)\n",
    "# print(os.listdir(path +tr  + train[5]) )\n",
    "for t in range(len(train)):\n",
    "    key_value[train[t]] = os.listdir(path+'/train/'+train[t])\n"
   ]
  },
  {
   "cell_type": "code",
   "execution_count": 8,
   "metadata": {},
   "outputs": [
    {
     "data": {
      "text/plain": [
       "33"
      ]
     },
     "execution_count": 8,
     "metadata": {},
     "output_type": "execute_result"
    }
   ],
   "source": [
    "len(train)"
   ]
  },
  {
   "cell_type": "code",
   "execution_count": 9,
   "metadata": {},
   "outputs": [],
   "source": [
    "df = []\n",
    "for i in range(len(train)):\n",
    "    # loop until all the images are finished\n",
    "    for j in range(len(key_value[train[i]])):\n",
    "        df.append([path+'/train/'+train[i]+'/' +\n",
    "                  key_value[train[i]][j], train[i]])\n",
    "        # add path of every image|"
   ]
  },
  {
   "cell_type": "code",
   "execution_count": 10,
   "metadata": {},
   "outputs": [
    {
     "data": {
      "text/html": [
       "<div>\n",
       "<style scoped>\n",
       "    .dataframe tbody tr th:only-of-type {\n",
       "        vertical-align: middle;\n",
       "    }\n",
       "\n",
       "    .dataframe tbody tr th {\n",
       "        vertical-align: top;\n",
       "    }\n",
       "\n",
       "    .dataframe thead th {\n",
       "        text-align: right;\n",
       "    }\n",
       "</style>\n",
       "<table border=\"1\" class=\"dataframe\">\n",
       "  <thead>\n",
       "    <tr style=\"text-align: right;\">\n",
       "      <th></th>\n",
       "      <th>image</th>\n",
       "      <th>label</th>\n",
       "    </tr>\n",
       "  </thead>\n",
       "  <tbody>\n",
       "    <tr>\n",
       "      <th>0</th>\n",
       "      <td>dataset/train/Apple___Apple_scab/023123cb-7b69...</td>\n",
       "      <td>Apple___Apple_scab</td>\n",
       "    </tr>\n",
       "    <tr>\n",
       "      <th>1</th>\n",
       "      <td>dataset/train/Apple___Apple_scab/0261a6e4-21f8...</td>\n",
       "      <td>Apple___Apple_scab</td>\n",
       "    </tr>\n",
       "    <tr>\n",
       "      <th>2</th>\n",
       "      <td>dataset/train/Apple___Apple_scab/029424b0-0ef5...</td>\n",
       "      <td>Apple___Apple_scab</td>\n",
       "    </tr>\n",
       "    <tr>\n",
       "      <th>3</th>\n",
       "      <td>dataset/train/Apple___Apple_scab/058d5e64-2c57...</td>\n",
       "      <td>Apple___Apple_scab</td>\n",
       "    </tr>\n",
       "    <tr>\n",
       "      <th>4</th>\n",
       "      <td>dataset/train/Apple___Apple_scab/058d5e64-2c57...</td>\n",
       "      <td>Apple___Apple_scab</td>\n",
       "    </tr>\n",
       "    <tr>\n",
       "      <th>...</th>\n",
       "      <td>...</td>\n",
       "      <td>...</td>\n",
       "    </tr>\n",
       "    <tr>\n",
       "      <th>19741</th>\n",
       "      <td>dataset/train/Tomato___Tomato_Yellow_Leaf_Curl...</td>\n",
       "      <td>Tomato___Tomato_Yellow_Leaf_Curl_Virus</td>\n",
       "    </tr>\n",
       "    <tr>\n",
       "      <th>19742</th>\n",
       "      <td>dataset/train/Tomato___Tomato_Yellow_Leaf_Curl...</td>\n",
       "      <td>Tomato___Tomato_Yellow_Leaf_Curl_Virus</td>\n",
       "    </tr>\n",
       "    <tr>\n",
       "      <th>19743</th>\n",
       "      <td>dataset/train/Tomato___Tomato_Yellow_Leaf_Curl...</td>\n",
       "      <td>Tomato___Tomato_Yellow_Leaf_Curl_Virus</td>\n",
       "    </tr>\n",
       "    <tr>\n",
       "      <th>19744</th>\n",
       "      <td>dataset/train/Tomato___Tomato_Yellow_Leaf_Curl...</td>\n",
       "      <td>Tomato___Tomato_Yellow_Leaf_Curl_Virus</td>\n",
       "    </tr>\n",
       "    <tr>\n",
       "      <th>19745</th>\n",
       "      <td>dataset/train/Tomato___Tomato_Yellow_Leaf_Curl...</td>\n",
       "      <td>Tomato___Tomato_Yellow_Leaf_Curl_Virus</td>\n",
       "    </tr>\n",
       "  </tbody>\n",
       "</table>\n",
       "<p>19746 rows × 2 columns</p>\n",
       "</div>"
      ],
      "text/plain": [
       "                                                   image  \\\n",
       "0      dataset/train/Apple___Apple_scab/023123cb-7b69...   \n",
       "1      dataset/train/Apple___Apple_scab/0261a6e4-21f8...   \n",
       "2      dataset/train/Apple___Apple_scab/029424b0-0ef5...   \n",
       "3      dataset/train/Apple___Apple_scab/058d5e64-2c57...   \n",
       "4      dataset/train/Apple___Apple_scab/058d5e64-2c57...   \n",
       "...                                                  ...   \n",
       "19741  dataset/train/Tomato___Tomato_Yellow_Leaf_Curl...   \n",
       "19742  dataset/train/Tomato___Tomato_Yellow_Leaf_Curl...   \n",
       "19743  dataset/train/Tomato___Tomato_Yellow_Leaf_Curl...   \n",
       "19744  dataset/train/Tomato___Tomato_Yellow_Leaf_Curl...   \n",
       "19745  dataset/train/Tomato___Tomato_Yellow_Leaf_Curl...   \n",
       "\n",
       "                                        label  \n",
       "0                          Apple___Apple_scab  \n",
       "1                          Apple___Apple_scab  \n",
       "2                          Apple___Apple_scab  \n",
       "3                          Apple___Apple_scab  \n",
       "4                          Apple___Apple_scab  \n",
       "...                                       ...  \n",
       "19741  Tomato___Tomato_Yellow_Leaf_Curl_Virus  \n",
       "19742  Tomato___Tomato_Yellow_Leaf_Curl_Virus  \n",
       "19743  Tomato___Tomato_Yellow_Leaf_Curl_Virus  \n",
       "19744  Tomato___Tomato_Yellow_Leaf_Curl_Virus  \n",
       "19745  Tomato___Tomato_Yellow_Leaf_Curl_Virus  \n",
       "\n",
       "[19746 rows x 2 columns]"
      ]
     },
     "execution_count": 10,
     "metadata": {},
     "output_type": "execute_result"
    }
   ],
   "source": [
    "train_data = pd.DataFrame(df, columns=['image', 'label'])\n",
    "train_data\n"
   ]
  },
  {
   "cell_type": "code",
   "execution_count": 11,
   "metadata": {},
   "outputs": [],
   "source": [
    "valid = os.listdir(path+'/valid')\n",
    "valid_key_value = dict()\n",
    "\n",
    "for v in valid:\n",
    "  valid_key_value[v] = os.listdir(path+'/valid/'+v)\n"
   ]
  },
  {
   "cell_type": "code",
   "execution_count": 12,
   "metadata": {},
   "outputs": [],
   "source": [
    "valid_df = []\n",
    "\n",
    "for v in valid:\n",
    "  for img in valid_key_value[v]:\n",
    "    valid_df.append([path+\"/valid/\"+v+\"/\"+img, v])\n"
   ]
  },
  {
   "cell_type": "code",
   "execution_count": 13,
   "metadata": {},
   "outputs": [
    {
     "data": {
      "text/html": [
       "<div>\n",
       "<style scoped>\n",
       "    .dataframe tbody tr th:only-of-type {\n",
       "        vertical-align: middle;\n",
       "    }\n",
       "\n",
       "    .dataframe tbody tr th {\n",
       "        vertical-align: top;\n",
       "    }\n",
       "\n",
       "    .dataframe thead th {\n",
       "        text-align: right;\n",
       "    }\n",
       "</style>\n",
       "<table border=\"1\" class=\"dataframe\">\n",
       "  <thead>\n",
       "    <tr style=\"text-align: right;\">\n",
       "      <th></th>\n",
       "      <th>image</th>\n",
       "      <th>label</th>\n",
       "    </tr>\n",
       "  </thead>\n",
       "  <tbody>\n",
       "    <tr>\n",
       "      <th>0</th>\n",
       "      <td>dataset/valid/Apple___Apple_scab/00075aa8-d81a...</td>\n",
       "      <td>Apple___Apple_scab</td>\n",
       "    </tr>\n",
       "    <tr>\n",
       "      <th>1</th>\n",
       "      <td>dataset/valid/Apple___Apple_scab/00075aa8-d81a...</td>\n",
       "      <td>Apple___Apple_scab</td>\n",
       "    </tr>\n",
       "    <tr>\n",
       "      <th>2</th>\n",
       "      <td>dataset/valid/Apple___Apple_scab/00075aa8-d81a...</td>\n",
       "      <td>Apple___Apple_scab</td>\n",
       "    </tr>\n",
       "    <tr>\n",
       "      <th>3</th>\n",
       "      <td>dataset/valid/Apple___Apple_scab/01f3deaa-6143...</td>\n",
       "      <td>Apple___Apple_scab</td>\n",
       "    </tr>\n",
       "    <tr>\n",
       "      <th>4</th>\n",
       "      <td>dataset/valid/Apple___Apple_scab/0208f4eb-45a4...</td>\n",
       "      <td>Apple___Apple_scab</td>\n",
       "    </tr>\n",
       "    <tr>\n",
       "      <th>...</th>\n",
       "      <td>...</td>\n",
       "      <td>...</td>\n",
       "    </tr>\n",
       "    <tr>\n",
       "      <th>15749</th>\n",
       "      <td>dataset/valid/Tomato___Tomato_Yellow_Leaf_Curl...</td>\n",
       "      <td>Tomato___Tomato_Yellow_Leaf_Curl_Virus</td>\n",
       "    </tr>\n",
       "    <tr>\n",
       "      <th>15750</th>\n",
       "      <td>dataset/valid/Tomato___Tomato_Yellow_Leaf_Curl...</td>\n",
       "      <td>Tomato___Tomato_Yellow_Leaf_Curl_Virus</td>\n",
       "    </tr>\n",
       "    <tr>\n",
       "      <th>15751</th>\n",
       "      <td>dataset/valid/Tomato___Tomato_Yellow_Leaf_Curl...</td>\n",
       "      <td>Tomato___Tomato_Yellow_Leaf_Curl_Virus</td>\n",
       "    </tr>\n",
       "    <tr>\n",
       "      <th>15752</th>\n",
       "      <td>dataset/valid/Tomato___Tomato_Yellow_Leaf_Curl...</td>\n",
       "      <td>Tomato___Tomato_Yellow_Leaf_Curl_Virus</td>\n",
       "    </tr>\n",
       "    <tr>\n",
       "      <th>15753</th>\n",
       "      <td>dataset/valid/Tomato___Tomato_Yellow_Leaf_Curl...</td>\n",
       "      <td>Tomato___Tomato_Yellow_Leaf_Curl_Virus</td>\n",
       "    </tr>\n",
       "  </tbody>\n",
       "</table>\n",
       "<p>15754 rows × 2 columns</p>\n",
       "</div>"
      ],
      "text/plain": [
       "                                                   image  \\\n",
       "0      dataset/valid/Apple___Apple_scab/00075aa8-d81a...   \n",
       "1      dataset/valid/Apple___Apple_scab/00075aa8-d81a...   \n",
       "2      dataset/valid/Apple___Apple_scab/00075aa8-d81a...   \n",
       "3      dataset/valid/Apple___Apple_scab/01f3deaa-6143...   \n",
       "4      dataset/valid/Apple___Apple_scab/0208f4eb-45a4...   \n",
       "...                                                  ...   \n",
       "15749  dataset/valid/Tomato___Tomato_Yellow_Leaf_Curl...   \n",
       "15750  dataset/valid/Tomato___Tomato_Yellow_Leaf_Curl...   \n",
       "15751  dataset/valid/Tomato___Tomato_Yellow_Leaf_Curl...   \n",
       "15752  dataset/valid/Tomato___Tomato_Yellow_Leaf_Curl...   \n",
       "15753  dataset/valid/Tomato___Tomato_Yellow_Leaf_Curl...   \n",
       "\n",
       "                                        label  \n",
       "0                          Apple___Apple_scab  \n",
       "1                          Apple___Apple_scab  \n",
       "2                          Apple___Apple_scab  \n",
       "3                          Apple___Apple_scab  \n",
       "4                          Apple___Apple_scab  \n",
       "...                                       ...  \n",
       "15749  Tomato___Tomato_Yellow_Leaf_Curl_Virus  \n",
       "15750  Tomato___Tomato_Yellow_Leaf_Curl_Virus  \n",
       "15751  Tomato___Tomato_Yellow_Leaf_Curl_Virus  \n",
       "15752  Tomato___Tomato_Yellow_Leaf_Curl_Virus  \n",
       "15753  Tomato___Tomato_Yellow_Leaf_Curl_Virus  \n",
       "\n",
       "[15754 rows x 2 columns]"
      ]
     },
     "execution_count": 13,
     "metadata": {},
     "output_type": "execute_result"
    }
   ],
   "source": [
    "valid_data = pd.DataFrame(valid_df, columns=['image', 'label'])\n",
    "valid_data\n"
   ]
  },
  {
   "cell_type": "code",
   "execution_count": 14,
   "metadata": {},
   "outputs": [
    {
     "data": {
      "text/html": [
       "<div>\n",
       "<style scoped>\n",
       "    .dataframe tbody tr th:only-of-type {\n",
       "        vertical-align: middle;\n",
       "    }\n",
       "\n",
       "    .dataframe tbody tr th {\n",
       "        vertical-align: top;\n",
       "    }\n",
       "\n",
       "    .dataframe thead th {\n",
       "        text-align: right;\n",
       "    }\n",
       "</style>\n",
       "<table border=\"1\" class=\"dataframe\">\n",
       "  <thead>\n",
       "    <tr style=\"text-align: right;\">\n",
       "      <th></th>\n",
       "      <th>image</th>\n",
       "      <th>label</th>\n",
       "    </tr>\n",
       "  </thead>\n",
       "  <tbody>\n",
       "    <tr>\n",
       "      <th>812</th>\n",
       "      <td>dataset/valid/Apple___Black_rot/a285e174-d731-...</td>\n",
       "      <td>Apple___Black_rot</td>\n",
       "    </tr>\n",
       "    <tr>\n",
       "      <th>5860</th>\n",
       "      <td>dataset/valid/Grape___healthy/9c9ae952-4031-4f...</td>\n",
       "      <td>Grape___healthy</td>\n",
       "    </tr>\n",
       "    <tr>\n",
       "      <th>8510</th>\n",
       "      <td>dataset/valid/Pepper,_bell___healthy/3e2945ba-...</td>\n",
       "      <td>Pepper,_bell___healthy</td>\n",
       "    </tr>\n",
       "    <tr>\n",
       "      <th>3163</th>\n",
       "      <td>dataset/valid/Corn_(maize)___Cercospora_leaf_s...</td>\n",
       "      <td>Corn_(maize)___Cercospora_leaf_spot Gray_leaf_...</td>\n",
       "    </tr>\n",
       "    <tr>\n",
       "      <th>14280</th>\n",
       "      <td>dataset/valid/Tomato___Spider_mites Two-spotte...</td>\n",
       "      <td>Tomato___Spider_mites Two-spotted_spider_mite</td>\n",
       "    </tr>\n",
       "    <tr>\n",
       "      <th>25252</th>\n",
       "      <td>dataset/train/Peach___healthy/ec3aa964-fde7-4b...</td>\n",
       "      <td>Peach___healthy</td>\n",
       "    </tr>\n",
       "    <tr>\n",
       "      <th>11547</th>\n",
       "      <td>dataset/valid/Tomato___Bacterial_spot/e7dc7765...</td>\n",
       "      <td>Tomato___Bacterial_spot</td>\n",
       "    </tr>\n",
       "    <tr>\n",
       "      <th>15081</th>\n",
       "      <td>dataset/valid/Tomato___Tomato_mosaic_virus/8af...</td>\n",
       "      <td>Tomato___Tomato_mosaic_virus</td>\n",
       "    </tr>\n",
       "    <tr>\n",
       "      <th>2003</th>\n",
       "      <td>dataset/valid/Cherry___healthy/271c42ee-ce8e-4...</td>\n",
       "      <td>Cherry___healthy</td>\n",
       "    </tr>\n",
       "    <tr>\n",
       "      <th>2817</th>\n",
       "      <td>dataset/valid/Cherry___Powdery_mildew/fe4079cc...</td>\n",
       "      <td>Cherry___Powdery_mildew</td>\n",
       "    </tr>\n",
       "  </tbody>\n",
       "</table>\n",
       "</div>"
      ],
      "text/plain": [
       "                                                   image  \\\n",
       "812    dataset/valid/Apple___Black_rot/a285e174-d731-...   \n",
       "5860   dataset/valid/Grape___healthy/9c9ae952-4031-4f...   \n",
       "8510   dataset/valid/Pepper,_bell___healthy/3e2945ba-...   \n",
       "3163   dataset/valid/Corn_(maize)___Cercospora_leaf_s...   \n",
       "14280  dataset/valid/Tomato___Spider_mites Two-spotte...   \n",
       "25252  dataset/train/Peach___healthy/ec3aa964-fde7-4b...   \n",
       "11547  dataset/valid/Tomato___Bacterial_spot/e7dc7765...   \n",
       "15081  dataset/valid/Tomato___Tomato_mosaic_virus/8af...   \n",
       "2003   dataset/valid/Cherry___healthy/271c42ee-ce8e-4...   \n",
       "2817   dataset/valid/Cherry___Powdery_mildew/fe4079cc...   \n",
       "\n",
       "                                                   label  \n",
       "812                                    Apple___Black_rot  \n",
       "5860                                     Grape___healthy  \n",
       "8510                              Pepper,_bell___healthy  \n",
       "3163   Corn_(maize)___Cercospora_leaf_spot Gray_leaf_...  \n",
       "14280      Tomato___Spider_mites Two-spotted_spider_mite  \n",
       "25252                                    Peach___healthy  \n",
       "11547                            Tomato___Bacterial_spot  \n",
       "15081                       Tomato___Tomato_mosaic_virus  \n",
       "2003                                    Cherry___healthy  \n",
       "2817                             Cherry___Powdery_mildew  "
      ]
     },
     "execution_count": 14,
     "metadata": {},
     "output_type": "execute_result"
    }
   ],
   "source": [
    "frame = [valid_data, train_data]\n",
    "merged_data = pd.concat(frame)\n",
    "\n",
    "# Reset the index\n",
    "merged_data = merged_data.reset_index(drop=True)\n",
    "merged_data.sample(10)"
   ]
  },
  {
   "cell_type": "code",
   "execution_count": 16,
   "metadata": {},
   "outputs": [
    {
     "data": {
      "text/plain": [
       "TensorShape([64, 64, 3])"
      ]
     },
     "execution_count": 16,
     "metadata": {},
     "output_type": "execute_result"
    }
   ],
   "source": [
    "# checking what will be the output of this code\n",
    "img = tf.io.read_file(merged_data['image'][0])\n",
    "img = tf.image.decode_jpeg(img, channels=3)\n",
    "img = tf.image.resize(img, (64, 64))\n",
    "type(img)\n",
    "img.shape\n"
   ]
  },
  {
   "attachments": {},
   "cell_type": "markdown",
   "metadata": {},
   "source": [
    "## converting image into tensor and resizing it  "
   ]
  },
  {
   "cell_type": "code",
   "execution_count": 22,
   "metadata": {},
   "outputs": [],
   "source": [
    "x = []\n",
    "for i in train_data['image']:\n",
    "    # Read the image\n",
    "    img = tf.io.read_file(i)\n",
    "    img = tf.image.decode_jpeg(img, channels=3)\n",
    "\n",
    "    # Convert the image to grayscale\n",
    "#     img = tf.image.rgb_to_grayscale(img)\n",
    "\n",
    "    img = tf.image.resize(img, (64, 64))\n",
    "\n",
    "    # Add the image to the list\n",
    "    x.append(img)\n"
   ]
  },
  {
   "cell_type": "code",
   "execution_count": 23,
   "metadata": {},
   "outputs": [],
   "source": [
    "x = np.array(x).reshape(len(train_data), 64, 64, 3)"
   ]
  },
  {
   "attachments": {},
   "cell_type": "markdown",
   "metadata": {},
   "source": [
    "## Encoding and splitting our data "
   ]
  },
  {
   "cell_type": "code",
   "execution_count": 24,
   "metadata": {},
   "outputs": [],
   "source": [
    "from sklearn.preprocessing import LabelEncoder\n",
    "y = train_data['label']\n",
    "le = LabelEncoder()\n",
    "y_label = le.fit_transform(y)\n"
   ]
  },
  {
   "cell_type": "code",
   "execution_count": 25,
   "metadata": {},
   "outputs": [],
   "source": [
    "from sklearn.model_selection import train_test_split\n",
    "train_images, test_images, train_labels, test_labels = train_test_split(x, y_label, test_size=0.2,\n",
    "                                                                        random_state=42)"
   ]
  },
  {
   "cell_type": "code",
   "execution_count": 26,
   "metadata": {},
   "outputs": [],
   "source": [
    "# normalizing our data because 255 is the max value for greyscale value\n",
    "train_images = train_images/255\n",
    "test_images = test_images/255\n",
    "\n",
    "y_test = pd.DataFrame(train_labels)\n"
   ]
  },
  {
   "attachments": {},
   "cell_type": "markdown",
   "metadata": {},
   "source": [
    "## CNN model"
   ]
  },
  {
   "cell_type": "code",
   "execution_count": 32,
   "metadata": {},
   "outputs": [],
   "source": [
    "model = tf.keras.Sequential([\n",
    "    # First convolutional layer with data augmentation\n",
    "    tf.keras.layers.Conv2D(32, kernel_size=(3,3), padding='same', activation='relu', input_shape=(64,64,3)),\n",
    "    tf.keras.layers.BatchNormalization(),\n",
    "    tf.keras.layers.Conv2D(32, kernel_size=(3,3), padding='same', activation='relu'),\n",
    "    tf.keras.layers.BatchNormalization(),\n",
    "    tf.keras.layers.MaxPooling2D(pool_size=(2,2)),\n",
    "    tf.keras.layers.Dropout(0.2),\n",
    "\n",
    "    # Second convolutional layer with data augmentation\n",
    "    tf.keras.layers.Conv2D(64, kernel_size=(3,3), padding='same', activation='relu'),\n",
    "    tf.keras.layers.BatchNormalization(),\n",
    "    tf.keras.layers.Conv2D(64, kernel_size=(3,3), padding='same', activation='relu'),\n",
    "    tf.keras.layers.BatchNormalization(),\n",
    "    tf.keras.layers.MaxPooling2D(pool_size=(2,2)),\n",
    "    tf.keras.layers.Dropout(0.3),\n",
    "\n",
    "    # Third convolutional layer with data augmentation\n",
    "    tf.keras.layers.Conv2D(128, kernel_size=(3,3), padding='same', activation='relu'),\n",
    "    tf.keras.layers.BatchNormalization(),\n",
    "    tf.keras.layers.Conv2D(128, kernel_size=(3,3), padding='same', activation='relu'),\n",
    "    tf.keras.layers.BatchNormalization(),\n",
    "    tf.keras.layers.MaxPooling2D(pool_size=(2,2)),\n",
    "    tf.keras.layers.Dropout(0.4),\n",
    "\n",
    "    # Flatten and pass through dense layer\n",
    "    tf.keras.layers.Flatten(),\n",
    "    tf.keras.layers.Dense(1024, activation='relu'),\n",
    "    tf.keras.layers.Dropout(0.5),\n",
    "    tf.keras.layers.Dense(len(train), activation='softmax')\n",
    "])\n",
    "\n",
    "# Compile the model\n",
    "model.compile(optimizer='adam',\n",
    "                loss=tf.keras.losses.SparseCategoricalCrossentropy(),\n",
    "                metrics=['accuracy'])\n",
    "\n",
    "# Use ImageDataGenerator for data augmentation\n",
    "datagen = tf.keras.preprocessing.image.ImageDataGenerator(\n",
    "    width_shift_range=0.1,\n",
    "    height_shift_range=0.1,\n",
    "    zoom_range=0.2,\n",
    "    horizontal_flip=True\n",
    ")"
   ]
  },
  {
   "cell_type": "code",
   "execution_count": 33,
   "metadata": {},
   "outputs": [
    {
     "data": {
      "text/plain": [
       "(19746, 19746)"
      ]
     },
     "execution_count": 33,
     "metadata": {},
     "output_type": "execute_result"
    }
   ],
   "source": [
    "len(y_label), len(train_data)"
   ]
  },
  {
   "cell_type": "code",
   "execution_count": null,
   "metadata": {},
   "outputs": [],
   "source": [
    "# Fit the model using the generator\n",
    "model.fit_generator(datagen.flow(train_images, train_labels, batch_size=64), epochs=33,\n",
    "                    validation_data=(test_images, test_labels))"
   ]
  },
  {
   "cell_type": "code",
   "execution_count": null,
   "metadata": {},
   "outputs": [],
   "source": [
    "model.evaluate(test_images, test_labels)"
   ]
  },
  {
   "cell_type": "code",
   "execution_count": null,
   "metadata": {},
   "outputs": [],
   "source": [
    "# save the model\n",
    "model.save('model.h5')"
   ]
  },
  {
   "cell_type": "code",
   "execution_count": null,
   "metadata": {},
   "outputs": [],
   "source": [
    "# saving the label encoder\n",
    "import pickle\n",
    "pickle.dump(le, open('label_encoder.pkl', 'wb'))"
   ]
  }
 ],
 "metadata": {
  "kernelspec": {
   "display_name": "Python 3",
   "language": "python",
   "name": "python3"
  },
  "language_info": {
   "codemirror_mode": {
    "name": "ipython",
    "version": 3
   },
   "file_extension": ".py",
   "mimetype": "text/x-python",
   "name": "python",
   "nbconvert_exporter": "python",
   "pygments_lexer": "ipython3",
   "version": "3.10.5"
  },
  "orig_nbformat": 4,
  "vscode": {
   "interpreter": {
    "hash": "26de051ba29f2982a8de78e945f0abaf191376122a1563185a90213a26c5da77"
   }
  }
 },
 "nbformat": 4,
 "nbformat_minor": 2
}
