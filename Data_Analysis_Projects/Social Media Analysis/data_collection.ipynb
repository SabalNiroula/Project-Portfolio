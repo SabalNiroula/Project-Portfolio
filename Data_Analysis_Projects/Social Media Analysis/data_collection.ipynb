{
 "cells": [
  {
   "cell_type": "code",
   "execution_count": null,
   "metadata": {},
   "outputs": [],
   "source": [
    "import snscrape.modules.twitter as sntwitter\n",
    "import pandas as pd"
   ]
  },
  {
   "cell_type": "code",
   "execution_count": null,
   "metadata": {},
   "outputs": [],
   "source": [
    "import datetime\n",
    "begin_date= datetime.datetime(2020, 1, 1, 0, 0, 0)\n",
    "end_date = datetime.datetime(2022, 6, 29, 0, 0, 0)\n",
    "one_day = datetime.timedelta(days=1)"
   ]
  },
  {
   "cell_type": "code",
   "execution_count": null,
   "metadata": {},
   "outputs": [],
   "source": [
    "get_query()"
   ]
  },
  {
   "cell_type": "code",
   "execution_count": null,
   "metadata": {},
   "outputs": [],
   "source": [
    "all_tweets = []"
   ]
  },
  {
   "cell_type": "code",
   "execution_count": null,
   "metadata": {},
   "outputs": [],
   "source": [
    "def get_query():\n",
    "    '''\n",
    "    Query for tweets of one day only \n",
    "    '''\n",
    "    QUERY = \"#COVID19 OR #CoronaVirus OR #Pandemic since:{} until:{} filter:verified\"\n",
    "    if end_date>=begin_date:\n",
    "        return QUERY.format(begin_date.date(), (begin_date+one_day).date())\n",
    "    else:\n",
    "        return \"-1\"\n",
    "\n",
    "\n",
    "def scrape_tweets(QUERY):\n",
    "    '''\n",
    "    Get 275 tweets per day\n",
    "    '''\n",
    "    count = 275\n",
    "    tweets = []\n",
    "    for tweet in sntwitter.TwitterSearchScraper(QUERY).get_items():\n",
    "            if len(tweets) == count:\n",
    "                break\n",
    "            if(tweet.lang=='en'):\n",
    "                media_shared = 0 if (tweet.media) is None else len(tweet.media)\n",
    "                tweets.append([tweet.rawContent, tweet.date, tweet.user.location, tweet.likeCount, tweet.sourceLabel, \n",
    "                           media_shared, tweet.retweetCount])\n",
    "    return tweets"
   ]
  },
  {
   "cell_type": "code",
   "execution_count": null,
   "metadata": {},
   "outputs": [],
   "source": [
    "while True:\n",
    "    QUERY = get_query()\n",
    "    if QUERY != \"-1\":\n",
    "        temp = scrape_tweets(QUERY)\n",
    "        for i in temp:\n",
    "            all_tweets.append(i)\n",
    "        begin_date += one_day\n",
    "    else:\n",
    "        break\n",
    "    if end_date == begin_date:\n",
    "        break"
   ]
  },
  {
   "cell_type": "code",
   "execution_count": null,
   "metadata": {},
   "outputs": [],
   "source": [
    "len(all_tweets)"
   ]
  },
  {
   "cell_type": "code",
   "execution_count": null,
   "metadata": {},
   "outputs": [],
   "source": [
    "# convert into dataframe\n",
    "df = pd.DataFrame(all_tweets, \n",
    "                  columns=['content', 'date', 'location', 'like_count', 'source', 'total_media_shared', 'retweet_count'])"
   ]
  },
  {
   "cell_type": "code",
   "execution_count": null,
   "metadata": {},
   "outputs": [],
   "source": [
    "df['date'].dt.date.value_counts()"
   ]
  },
  {
   "cell_type": "code",
   "execution_count": null,
   "metadata": {},
   "outputs": [],
   "source": [
    "df.info()"
   ]
  },
  {
   "cell_type": "code",
   "execution_count": null,
   "metadata": {},
   "outputs": [],
   "source": [
    "# save the dataframe\n",
    "df.to_csv(\"245k_tweets.csv\", index=False)"
   ]
  }
 ],
 "metadata": {
  "kernelspec": {
   "display_name": "Python 3 (ipykernel)",
   "language": "python",
   "name": "python3"
  },
  "language_info": {
   "codemirror_mode": {
    "name": "ipython",
    "version": 3
   },
   "file_extension": ".py",
   "mimetype": "text/x-python",
   "name": "python",
   "nbconvert_exporter": "python",
   "pygments_lexer": "ipython3",
   "version": "3.10.5"
  },
  "vscode": {
   "interpreter": {
    "hash": "26de051ba29f2982a8de78e945f0abaf191376122a1563185a90213a26c5da77"
   }
  }
 },
 "nbformat": 4,
 "nbformat_minor": 2
}
